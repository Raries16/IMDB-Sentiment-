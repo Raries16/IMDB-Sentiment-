{
  "nbformat": 4,
  "nbformat_minor": 0,
  "metadata": {
    "kernelspec": {
      "name": "python3",
      "display_name": "Python 3",
      "language": "python"
    },
    "language_info": {
      "name": "python",
      "version": "3.6.6",
      "mimetype": "text/x-python",
      "codemirror_mode": {
        "name": "ipython",
        "version": 3
      },
      "pygments_lexer": "ipython3",
      "nbconvert_exporter": "python",
      "file_extension": ".py"
    },
    "colab": {
      "name": "sentiment-analysis-of-imdb-movie-reviews.ipynb",
      "provenance": [],
      "collapsed_sections": [],
      "include_colab_link": true
    }
  },
  "cells": [
    {
      "cell_type": "markdown",
      "metadata": {
        "id": "view-in-github",
        "colab_type": "text"
      },
      "source": [
        "<a href=\"https://colab.research.google.com/github/Raries16/IMDB-Sentiment-/blob/main/sentiment_analysis_of_imdb_movie_reviews.ipynb\" target=\"_parent\"><img src=\"https://colab.research.google.com/assets/colab-badge.svg\" alt=\"Open In Colab\"/></a>"
      ]
    },
    {
      "cell_type": "markdown",
      "metadata": {
        "_uuid": "8f2839f25d086af736a60e9eeb907d3b93b6e0e5",
        "_cell_guid": "b1076dfc-b9ad-4769-8c92-a6c4dae69d19",
        "trusted": true,
        "id": "bLePmoPKcn75"
      },
      "source": [
        "**Sentiment Analysis of IMDB Movie Reviews**"
      ]
    },
    {
      "cell_type": "code",
      "metadata": {
        "colab": {
          "base_uri": "https://localhost:8080/"
        },
        "id": "_7nIlfrictQE",
        "outputId": "389c0725-9614-456c-95ce-b47f91fced2b"
      },
      "source": [
        "#Mounting Google Drive \n",
        "from google.colab import drive\n",
        "drive.mount('/content/gdrive')"
      ],
      "execution_count": 1,
      "outputs": [
        {
          "output_type": "stream",
          "text": [
            "Drive already mounted at /content/gdrive; to attempt to forcibly remount, call drive.mount(\"/content/gdrive\", force_remount=True).\n"
          ],
          "name": "stdout"
        }
      ]
    },
    {
      "cell_type": "code",
      "metadata": {
        "colab": {
          "base_uri": "https://localhost:8080/"
        },
        "id": "VW3yOt5zcwWY",
        "outputId": "df7d6e1f-1a30-4d7f-a691-f4bbf21203e3"
      },
      "source": [
        "#Changing Directory\n",
        "%cd /content/gdrive/My Drive/Kaggle/IMDB_review/"
      ],
      "execution_count": 2,
      "outputs": [
        {
          "output_type": "stream",
          "text": [
            "/content/gdrive/My Drive/Kaggle/IMDB_review\n"
          ],
          "name": "stdout"
        }
      ]
    },
    {
      "cell_type": "markdown",
      "metadata": {
        "_uuid": "1424638f5259100af9f9a5c1b05bd23cf5b71e51",
        "id": "xOdP2wwycn8C"
      },
      "source": [
        "**Import necessary libraries**"
      ]
    },
    {
      "cell_type": "code",
      "metadata": {
        "_cell_guid": "79c7e3d0-c299-4dcb-8224-4455121ee9b0",
        "_uuid": "d629ff2d2480ee46fbb7e2d37f6b5fab8052498a",
        "trusted": true,
        "id": "G2H6xoGHcn8C"
      },
      "source": [
        "#Load the libraries\n",
        "import numpy as np\n",
        "import pandas as pd\n",
        "import seaborn as sns\n",
        "import matplotlib.pyplot as plt\n",
        "import nltk\n",
        "from sklearn.feature_extraction.text import CountVectorizer\n",
        "from sklearn.feature_extraction.text import TfidfVectorizer\n",
        "from sklearn.preprocessing import LabelBinarizer\n",
        "from nltk.corpus import stopwords\n",
        "from nltk.stem.porter import PorterStemmer\n",
        "from wordcloud import WordCloud,STOPWORDS\n",
        "from nltk.stem import WordNetLemmatizer\n",
        "from nltk.tokenize import word_tokenize,sent_tokenize\n",
        "from bs4 import BeautifulSoup\n",
        "import spacy\n",
        "import re,string,unicodedata\n",
        "from nltk.tokenize.toktok import ToktokTokenizer\n",
        "from nltk.stem import LancasterStemmer,WordNetLemmatizer\n",
        "from sklearn.linear_model import LogisticRegression,SGDClassifier\n",
        "from sklearn.naive_bayes import MultinomialNB\n",
        "from sklearn.svm import SVC\n",
        "from textblob import TextBlob\n",
        "from textblob import Word\n",
        "from sklearn.metrics import classification_report,confusion_matrix,accuracy_score\n",
        "import warnings\n",
        "warnings.filterwarnings('ignore')\n"
      ],
      "execution_count": 3,
      "outputs": []
    },
    {
      "cell_type": "markdown",
      "metadata": {
        "_uuid": "be1b642cce343f7a8f68f8c91f7c50372cdf4381",
        "id": "zlQTKoCrcn8D"
      },
      "source": [
        "**Import the training dataset**"
      ]
    },
    {
      "cell_type": "code",
      "metadata": {
        "trusted": true,
        "_uuid": "4c593c17588723c0b0b0f19851cb70a8447ced76",
        "scrolled": true,
        "id": "NhFhk3Cycn8E"
      },
      "source": [
        "#importing the training data\n",
        "df=pd.read_csv('IMDB Dataset.csv')"
      ],
      "execution_count": 4,
      "outputs": []
    },
    {
      "cell_type": "code",
      "metadata": {
        "colab": {
          "base_uri": "https://localhost:8080/",
          "height": 204
        },
        "id": "rcYQqhuybpuN",
        "outputId": "7d34da00-9202-4641-dd01-549746665656"
      },
      "source": [
        "df.head()"
      ],
      "execution_count": 5,
      "outputs": [
        {
          "output_type": "execute_result",
          "data": {
            "text/html": [
              "<div>\n",
              "<style scoped>\n",
              "    .dataframe tbody tr th:only-of-type {\n",
              "        vertical-align: middle;\n",
              "    }\n",
              "\n",
              "    .dataframe tbody tr th {\n",
              "        vertical-align: top;\n",
              "    }\n",
              "\n",
              "    .dataframe thead th {\n",
              "        text-align: right;\n",
              "    }\n",
              "</style>\n",
              "<table border=\"1\" class=\"dataframe\">\n",
              "  <thead>\n",
              "    <tr style=\"text-align: right;\">\n",
              "      <th></th>\n",
              "      <th>review</th>\n",
              "      <th>sentiment</th>\n",
              "    </tr>\n",
              "  </thead>\n",
              "  <tbody>\n",
              "    <tr>\n",
              "      <th>0</th>\n",
              "      <td>One of the other reviewers has mentioned that ...</td>\n",
              "      <td>positive</td>\n",
              "    </tr>\n",
              "    <tr>\n",
              "      <th>1</th>\n",
              "      <td>A wonderful little production. &lt;br /&gt;&lt;br /&gt;The...</td>\n",
              "      <td>positive</td>\n",
              "    </tr>\n",
              "    <tr>\n",
              "      <th>2</th>\n",
              "      <td>I thought this was a wonderful way to spend ti...</td>\n",
              "      <td>positive</td>\n",
              "    </tr>\n",
              "    <tr>\n",
              "      <th>3</th>\n",
              "      <td>Basically there's a family where a little boy ...</td>\n",
              "      <td>negative</td>\n",
              "    </tr>\n",
              "    <tr>\n",
              "      <th>4</th>\n",
              "      <td>Petter Mattei's \"Love in the Time of Money\" is...</td>\n",
              "      <td>positive</td>\n",
              "    </tr>\n",
              "  </tbody>\n",
              "</table>\n",
              "</div>"
            ],
            "text/plain": [
              "                                              review sentiment\n",
              "0  One of the other reviewers has mentioned that ...  positive\n",
              "1  A wonderful little production. <br /><br />The...  positive\n",
              "2  I thought this was a wonderful way to spend ti...  positive\n",
              "3  Basically there's a family where a little boy ...  negative\n",
              "4  Petter Mattei's \"Love in the Time of Money\" is...  positive"
            ]
          },
          "metadata": {
            "tags": []
          },
          "execution_count": 5
        }
      ]
    },
    {
      "cell_type": "code",
      "metadata": {
        "colab": {
          "base_uri": "https://localhost:8080/"
        },
        "id": "ROjPK1oNbp43",
        "outputId": "bd291a6e-b386-4a4c-c7b1-39e32cf810d3"
      },
      "source": [
        "df.shape"
      ],
      "execution_count": 6,
      "outputs": [
        {
          "output_type": "execute_result",
          "data": {
            "text/plain": [
              "(50000, 2)"
            ]
          },
          "metadata": {
            "tags": []
          },
          "execution_count": 6
        }
      ]
    },
    {
      "cell_type": "code",
      "metadata": {
        "trusted": true,
        "_uuid": "7f11c83b1320c8982b36889145f7f770563674a8",
        "colab": {
          "base_uri": "https://localhost:8080/"
        },
        "id": "GaFicNFTcn8E",
        "outputId": "c6525ce0-96a5-46df-fc14-a391364a06b3"
      },
      "source": [
        "df.isna().sum()"
      ],
      "execution_count": 7,
      "outputs": [
        {
          "output_type": "execute_result",
          "data": {
            "text/plain": [
              "review       0\n",
              "sentiment    0\n",
              "dtype: int64"
            ]
          },
          "metadata": {
            "tags": []
          },
          "execution_count": 7
        }
      ]
    },
    {
      "cell_type": "code",
      "metadata": {
        "colab": {
          "base_uri": "https://localhost:8080/"
        },
        "id": "wwYYATSKc8kr",
        "outputId": "38fbb26d-3146-44ab-99ab-968805ef2662"
      },
      "source": [
        "df.sentiment.value_counts()"
      ],
      "execution_count": 8,
      "outputs": [
        {
          "output_type": "execute_result",
          "data": {
            "text/plain": [
              "positive    25000\n",
              "negative    25000\n",
              "Name: sentiment, dtype: int64"
            ]
          },
          "metadata": {
            "tags": []
          },
          "execution_count": 8
        }
      ]
    },
    {
      "cell_type": "markdown",
      "metadata": {
        "_uuid": "90da29c3b79f46f41d7391a2a116065b616d0fac",
        "id": "PCZAp3jocn8G"
      },
      "source": [
        "**Text normalization**"
      ]
    },
    {
      "cell_type": "code",
      "metadata": {
        "colab": {
          "base_uri": "https://localhost:8080/"
        },
        "id": "VGedQcKZdAax",
        "outputId": "8ac52403-030b-47df-b474-a219c3592eee"
      },
      "source": [
        "nltk.download('stopwords')"
      ],
      "execution_count": 9,
      "outputs": [
        {
          "output_type": "stream",
          "text": [
            "[nltk_data] Downloading package stopwords to /root/nltk_data...\n",
            "[nltk_data]   Package stopwords is already up-to-date!\n"
          ],
          "name": "stdout"
        },
        {
          "output_type": "execute_result",
          "data": {
            "text/plain": [
              "True"
            ]
          },
          "metadata": {
            "tags": []
          },
          "execution_count": 9
        }
      ]
    },
    {
      "cell_type": "code",
      "metadata": {
        "trusted": true,
        "_uuid": "f000c43d91f68f6668539f089c6a54c5ce3bd819",
        "id": "EVggpunicn8H"
      },
      "source": [
        "#Tokenization of text\n",
        "tokenizer=ToktokTokenizer()\n",
        "#Setting English stopwords\n",
        "stopword_list=nltk.corpus.stopwords.words('english')"
      ],
      "execution_count": 10,
      "outputs": []
    },
    {
      "cell_type": "code",
      "metadata": {
        "trusted": true,
        "_uuid": "6f6fcafbdadcdcb0c164e37d71fb9d1623f74d0a",
        "id": "RJK7ZAHWcn8H"
      },
      "source": [
        "#Removing the html strips\n",
        "def strip_html(text):\n",
        "    soup = BeautifulSoup(text, \"html.parser\")\n",
        "    return soup.get_text()\n",
        "\n",
        "#Removing the square brackets\n",
        "def remove_between_square_brackets(text):\n",
        "    return re.sub('\\[[^]]*\\]', '', text)\n",
        "\n",
        "#Removing the noisy text\n",
        "def denoise_text(text):\n",
        "    text = strip_html(text)\n",
        "    text = remove_between_square_brackets(text)\n",
        "    return text"
      ],
      "execution_count": 11,
      "outputs": []
    },
    {
      "cell_type": "code",
      "metadata": {
        "id": "9lMvraHfeHtG"
      },
      "source": [
        "#Apply function on review column\n",
        "df['review']=df['review'].apply(denoise_text)"
      ],
      "execution_count": 12,
      "outputs": []
    },
    {
      "cell_type": "markdown",
      "metadata": {
        "_uuid": "88117b74761d1047924d6d70f76642faa0e706ac",
        "id": "FrhqKwrYcn8H"
      },
      "source": [
        "**Removing special characters**"
      ]
    },
    {
      "cell_type": "code",
      "metadata": {
        "trusted": true,
        "_uuid": "219da72b025121fd98081df50ae0fcaace10cc9d",
        "id": "iJKKXWobcn8I"
      },
      "source": [
        "#Define function for removing special characters\n",
        "def remove_special_characters(text, remove_digits=True):\n",
        "    pattern=r'[^a-zA-z0-9\\s]'\n",
        "    text=re.sub(pattern,'',text)\n",
        "    return text"
      ],
      "execution_count": 13,
      "outputs": []
    },
    {
      "cell_type": "code",
      "metadata": {
        "id": "C8ax0c0-ePtO"
      },
      "source": [
        "#Apply function on review column\n",
        "df['review']=df['review'].apply(remove_special_characters)"
      ],
      "execution_count": 14,
      "outputs": []
    },
    {
      "cell_type": "code",
      "metadata": {
        "trusted": true,
        "_uuid": "2295f2946e0ab74c220ad538d0e7adc04d23f697",
        "id": "PNt8-ft6cn8J"
      },
      "source": [
        "#Stemming the text\n",
        "def simple_stemmer(text):\n",
        "    ps=nltk.porter.PorterStemmer()\n",
        "    text= ' '.join([ps.stem(word) for word in text.split()])\n",
        "    return text"
      ],
      "execution_count": 15,
      "outputs": []
    },
    {
      "cell_type": "code",
      "metadata": {
        "id": "xx8d_hqpevXI"
      },
      "source": [
        "#Apply function on review column\n",
        "df['review']=df['review'].apply(simple_stemmer)"
      ],
      "execution_count": 16,
      "outputs": []
    },
    {
      "cell_type": "code",
      "metadata": {
        "colab": {
          "base_uri": "https://localhost:8080/",
          "height": 204
        },
        "id": "BMCbKCfIe7ub",
        "outputId": "3de87418-4491-4abd-8cad-0dd355a5f99e"
      },
      "source": [
        "df.head()"
      ],
      "execution_count": 17,
      "outputs": [
        {
          "output_type": "execute_result",
          "data": {
            "text/html": [
              "<div>\n",
              "<style scoped>\n",
              "    .dataframe tbody tr th:only-of-type {\n",
              "        vertical-align: middle;\n",
              "    }\n",
              "\n",
              "    .dataframe tbody tr th {\n",
              "        vertical-align: top;\n",
              "    }\n",
              "\n",
              "    .dataframe thead th {\n",
              "        text-align: right;\n",
              "    }\n",
              "</style>\n",
              "<table border=\"1\" class=\"dataframe\">\n",
              "  <thead>\n",
              "    <tr style=\"text-align: right;\">\n",
              "      <th></th>\n",
              "      <th>review</th>\n",
              "      <th>sentiment</th>\n",
              "    </tr>\n",
              "  </thead>\n",
              "  <tbody>\n",
              "    <tr>\n",
              "      <th>0</th>\n",
              "      <td>one of the other review ha mention that after ...</td>\n",
              "      <td>positive</td>\n",
              "    </tr>\n",
              "    <tr>\n",
              "      <th>1</th>\n",
              "      <td>A wonder littl product the film techniqu is ve...</td>\n",
              "      <td>positive</td>\n",
              "    </tr>\n",
              "    <tr>\n",
              "      <th>2</th>\n",
              "      <td>I thought thi wa a wonder way to spend time on...</td>\n",
              "      <td>positive</td>\n",
              "    </tr>\n",
              "    <tr>\n",
              "      <th>3</th>\n",
              "      <td>basic there a famili where a littl boy jake th...</td>\n",
              "      <td>negative</td>\n",
              "    </tr>\n",
              "    <tr>\n",
              "      <th>4</th>\n",
              "      <td>petter mattei love in the time of money is a v...</td>\n",
              "      <td>positive</td>\n",
              "    </tr>\n",
              "  </tbody>\n",
              "</table>\n",
              "</div>"
            ],
            "text/plain": [
              "                                              review sentiment\n",
              "0  one of the other review ha mention that after ...  positive\n",
              "1  A wonder littl product the film techniqu is ve...  positive\n",
              "2  I thought thi wa a wonder way to spend time on...  positive\n",
              "3  basic there a famili where a littl boy jake th...  negative\n",
              "4  petter mattei love in the time of money is a v...  positive"
            ]
          },
          "metadata": {
            "tags": []
          },
          "execution_count": 17
        }
      ]
    },
    {
      "cell_type": "code",
      "metadata": {
        "trusted": true,
        "_uuid": "5dbff82b4d2d188d8777b273a75d8ac714d38885",
        "colab": {
          "base_uri": "https://localhost:8080/"
        },
        "id": "rv8tP8TQcn8J",
        "outputId": "6b22041c-25a4-481f-855d-35787637d135"
      },
      "source": [
        "#set stopwords to english\n",
        "stop=set(stopwords.words('english'))\n",
        "print(stop)"
      ],
      "execution_count": 18,
      "outputs": [
        {
          "output_type": "stream",
          "text": [
            "{'into', \"didn't\", 'ours', \"shan't\", 'yours', 'wouldn', 'doesn', 'should', 'down', 'o', 'on', \"you've\", 'i', 'll', 'myself', 'by', 'for', 'once', \"needn't\", 'those', 'to', 'him', 'has', 'weren', 'until', 'itself', 'of', 'at', 'same', 'just', 'out', 'between', 'very', 'do', 'their', 'in', 'is', 'that', 'hasn', 'mightn', 'couldn', 'does', 'y', 'these', 'needn', \"wouldn't\", 'don', 'or', \"it's\", \"won't\", 'yourselves', 'this', 'an', 'd', \"aren't\", 'as', 'me', \"hasn't\", 'few', 'ourselves', 'most', \"you'll\", 'herself', 'and', 'we', 'it', \"should've\", 'further', 'above', 'having', 'there', 'before', \"you'd\", 'off', 'mustn', \"weren't\", 'yourself', 'not', 'his', \"wasn't\", 'any', 'no', 'so', 's', 'its', 'a', \"you're\", \"couldn't\", 'about', 'where', \"haven't\", 'they', 'she', 'more', 'are', \"hadn't\", 'doing', \"that'll\", 'hadn', 'haven', 'how', 'isn', 'if', 're', \"don't\", 'why', \"she's\", 'theirs', 'while', 'be', 'below', 'up', 'shouldn', 'then', 'didn', 'my', 'from', 'wasn', 'over', 'm', 'won', 'who', 'some', 'after', 'such', 've', 'own', 'what', 'did', 'your', 'ma', 'had', 'our', 'only', 'being', 'with', 'through', 'again', \"shouldn't\", 'have', 'here', 'ain', 't', 'been', \"mustn't\", 'other', 'during', 'aren', 'shan', 'can', 'nor', 'himself', 'hers', 'them', 'but', 'am', 'against', 'too', 'both', 'under', 'themselves', \"doesn't\", \"mightn't\", 'which', 'because', 'will', 'her', 'you', 'now', 'each', 'all', 'whom', 'was', 'when', \"isn't\", 'were', 'he', 'than', 'the'}\n"
          ],
          "name": "stdout"
        }
      ]
    },
    {
      "cell_type": "code",
      "metadata": {
        "id": "ykUOdo-cftdA"
      },
      "source": [
        "df['review'] = df['review'].str.lower()"
      ],
      "execution_count": 19,
      "outputs": []
    },
    {
      "cell_type": "code",
      "metadata": {
        "colab": {
          "base_uri": "https://localhost:8080/",
          "height": 204
        },
        "id": "VNqONHC4e606",
        "outputId": "141fbd39-0d27-4c64-c0f1-77407642bf8e"
      },
      "source": [
        "df.head()"
      ],
      "execution_count": 20,
      "outputs": [
        {
          "output_type": "execute_result",
          "data": {
            "text/html": [
              "<div>\n",
              "<style scoped>\n",
              "    .dataframe tbody tr th:only-of-type {\n",
              "        vertical-align: middle;\n",
              "    }\n",
              "\n",
              "    .dataframe tbody tr th {\n",
              "        vertical-align: top;\n",
              "    }\n",
              "\n",
              "    .dataframe thead th {\n",
              "        text-align: right;\n",
              "    }\n",
              "</style>\n",
              "<table border=\"1\" class=\"dataframe\">\n",
              "  <thead>\n",
              "    <tr style=\"text-align: right;\">\n",
              "      <th></th>\n",
              "      <th>review</th>\n",
              "      <th>sentiment</th>\n",
              "    </tr>\n",
              "  </thead>\n",
              "  <tbody>\n",
              "    <tr>\n",
              "      <th>0</th>\n",
              "      <td>one of the other review ha mention that after ...</td>\n",
              "      <td>positive</td>\n",
              "    </tr>\n",
              "    <tr>\n",
              "      <th>1</th>\n",
              "      <td>a wonder littl product the film techniqu is ve...</td>\n",
              "      <td>positive</td>\n",
              "    </tr>\n",
              "    <tr>\n",
              "      <th>2</th>\n",
              "      <td>i thought thi wa a wonder way to spend time on...</td>\n",
              "      <td>positive</td>\n",
              "    </tr>\n",
              "    <tr>\n",
              "      <th>3</th>\n",
              "      <td>basic there a famili where a littl boy jake th...</td>\n",
              "      <td>negative</td>\n",
              "    </tr>\n",
              "    <tr>\n",
              "      <th>4</th>\n",
              "      <td>petter mattei love in the time of money is a v...</td>\n",
              "      <td>positive</td>\n",
              "    </tr>\n",
              "  </tbody>\n",
              "</table>\n",
              "</div>"
            ],
            "text/plain": [
              "                                              review sentiment\n",
              "0  one of the other review ha mention that after ...  positive\n",
              "1  a wonder littl product the film techniqu is ve...  positive\n",
              "2  i thought thi wa a wonder way to spend time on...  positive\n",
              "3  basic there a famili where a littl boy jake th...  negative\n",
              "4  petter mattei love in the time of money is a v...  positive"
            ]
          },
          "metadata": {
            "tags": []
          },
          "execution_count": 20
        }
      ]
    },
    {
      "cell_type": "code",
      "metadata": {
        "id": "ahuU4Lw7gb6q"
      },
      "source": [
        "df['review'] = df['review'].apply(lambda x : ' '.join([word for word in x.split() if word not in (stop)]))"
      ],
      "execution_count": 21,
      "outputs": []
    },
    {
      "cell_type": "code",
      "metadata": {
        "colab": {
          "base_uri": "https://localhost:8080/",
          "height": 204
        },
        "id": "PkcDQO5OgcA6",
        "outputId": "6809043e-9f61-4e02-821d-bd006ab7ff3e"
      },
      "source": [
        "df.head()"
      ],
      "execution_count": 22,
      "outputs": [
        {
          "output_type": "execute_result",
          "data": {
            "text/html": [
              "<div>\n",
              "<style scoped>\n",
              "    .dataframe tbody tr th:only-of-type {\n",
              "        vertical-align: middle;\n",
              "    }\n",
              "\n",
              "    .dataframe tbody tr th {\n",
              "        vertical-align: top;\n",
              "    }\n",
              "\n",
              "    .dataframe thead th {\n",
              "        text-align: right;\n",
              "    }\n",
              "</style>\n",
              "<table border=\"1\" class=\"dataframe\">\n",
              "  <thead>\n",
              "    <tr style=\"text-align: right;\">\n",
              "      <th></th>\n",
              "      <th>review</th>\n",
              "      <th>sentiment</th>\n",
              "    </tr>\n",
              "  </thead>\n",
              "  <tbody>\n",
              "    <tr>\n",
              "      <th>0</th>\n",
              "      <td>one review ha mention watch 1 oz episod youll ...</td>\n",
              "      <td>positive</td>\n",
              "    </tr>\n",
              "    <tr>\n",
              "      <th>1</th>\n",
              "      <td>wonder littl product film techniqu veri unassu...</td>\n",
              "      <td>positive</td>\n",
              "    </tr>\n",
              "    <tr>\n",
              "      <th>2</th>\n",
              "      <td>thought thi wa wonder way spend time hot summe...</td>\n",
              "      <td>positive</td>\n",
              "    </tr>\n",
              "    <tr>\n",
              "      <th>3</th>\n",
              "      <td>basic famili littl boy jake think zombi hi clo...</td>\n",
              "      <td>negative</td>\n",
              "    </tr>\n",
              "    <tr>\n",
              "      <th>4</th>\n",
              "      <td>petter mattei love time money visual stun film...</td>\n",
              "      <td>positive</td>\n",
              "    </tr>\n",
              "  </tbody>\n",
              "</table>\n",
              "</div>"
            ],
            "text/plain": [
              "                                              review sentiment\n",
              "0  one review ha mention watch 1 oz episod youll ...  positive\n",
              "1  wonder littl product film techniqu veri unassu...  positive\n",
              "2  thought thi wa wonder way spend time hot summe...  positive\n",
              "3  basic famili littl boy jake think zombi hi clo...  negative\n",
              "4  petter mattei love time money visual stun film...  positive"
            ]
          },
          "metadata": {
            "tags": []
          },
          "execution_count": 22
        }
      ]
    },
    {
      "cell_type": "code",
      "metadata": {
        "id": "itTlDEXho8_f"
      },
      "source": [
        "df.replace({'sentiment' : {'positive' : 0 , 'negative' : 1}} , inplace = True)"
      ],
      "execution_count": 23,
      "outputs": []
    },
    {
      "cell_type": "code",
      "metadata": {
        "colab": {
          "base_uri": "https://localhost:8080/",
          "height": 204
        },
        "id": "gHPHEKDBpP6g",
        "outputId": "58175cc6-ac52-4011-861c-43593f855d11"
      },
      "source": [
        "df.head()"
      ],
      "execution_count": 24,
      "outputs": [
        {
          "output_type": "execute_result",
          "data": {
            "text/html": [
              "<div>\n",
              "<style scoped>\n",
              "    .dataframe tbody tr th:only-of-type {\n",
              "        vertical-align: middle;\n",
              "    }\n",
              "\n",
              "    .dataframe tbody tr th {\n",
              "        vertical-align: top;\n",
              "    }\n",
              "\n",
              "    .dataframe thead th {\n",
              "        text-align: right;\n",
              "    }\n",
              "</style>\n",
              "<table border=\"1\" class=\"dataframe\">\n",
              "  <thead>\n",
              "    <tr style=\"text-align: right;\">\n",
              "      <th></th>\n",
              "      <th>review</th>\n",
              "      <th>sentiment</th>\n",
              "    </tr>\n",
              "  </thead>\n",
              "  <tbody>\n",
              "    <tr>\n",
              "      <th>0</th>\n",
              "      <td>one review ha mention watch 1 oz episod youll ...</td>\n",
              "      <td>0</td>\n",
              "    </tr>\n",
              "    <tr>\n",
              "      <th>1</th>\n",
              "      <td>wonder littl product film techniqu veri unassu...</td>\n",
              "      <td>0</td>\n",
              "    </tr>\n",
              "    <tr>\n",
              "      <th>2</th>\n",
              "      <td>thought thi wa wonder way spend time hot summe...</td>\n",
              "      <td>0</td>\n",
              "    </tr>\n",
              "    <tr>\n",
              "      <th>3</th>\n",
              "      <td>basic famili littl boy jake think zombi hi clo...</td>\n",
              "      <td>1</td>\n",
              "    </tr>\n",
              "    <tr>\n",
              "      <th>4</th>\n",
              "      <td>petter mattei love time money visual stun film...</td>\n",
              "      <td>0</td>\n",
              "    </tr>\n",
              "  </tbody>\n",
              "</table>\n",
              "</div>"
            ],
            "text/plain": [
              "                                              review  sentiment\n",
              "0  one review ha mention watch 1 oz episod youll ...          0\n",
              "1  wonder littl product film techniqu veri unassu...          0\n",
              "2  thought thi wa wonder way spend time hot summe...          0\n",
              "3  basic famili littl boy jake think zombi hi clo...          1\n",
              "4  petter mattei love time money visual stun film...          0"
            ]
          },
          "metadata": {
            "tags": []
          },
          "execution_count": 24
        }
      ]
    },
    {
      "cell_type": "markdown",
      "metadata": {
        "id": "SmI4uyM-pkax"
      },
      "source": [
        "# Word Embedding"
      ]
    },
    {
      "cell_type": "code",
      "metadata": {
        "colab": {
          "base_uri": "https://localhost:8080/",
          "height": 111
        },
        "id": "mln00IAKrUwX",
        "outputId": "1b2187f2-64aa-4c0a-aafb-ac3420364b84"
      },
      "source": [
        "df1 = df[0:2]\n",
        "df1.head()"
      ],
      "execution_count": 25,
      "outputs": [
        {
          "output_type": "execute_result",
          "data": {
            "text/html": [
              "<div>\n",
              "<style scoped>\n",
              "    .dataframe tbody tr th:only-of-type {\n",
              "        vertical-align: middle;\n",
              "    }\n",
              "\n",
              "    .dataframe tbody tr th {\n",
              "        vertical-align: top;\n",
              "    }\n",
              "\n",
              "    .dataframe thead th {\n",
              "        text-align: right;\n",
              "    }\n",
              "</style>\n",
              "<table border=\"1\" class=\"dataframe\">\n",
              "  <thead>\n",
              "    <tr style=\"text-align: right;\">\n",
              "      <th></th>\n",
              "      <th>review</th>\n",
              "      <th>sentiment</th>\n",
              "    </tr>\n",
              "  </thead>\n",
              "  <tbody>\n",
              "    <tr>\n",
              "      <th>0</th>\n",
              "      <td>one review ha mention watch 1 oz episod youll ...</td>\n",
              "      <td>0</td>\n",
              "    </tr>\n",
              "    <tr>\n",
              "      <th>1</th>\n",
              "      <td>wonder littl product film techniqu veri unassu...</td>\n",
              "      <td>0</td>\n",
              "    </tr>\n",
              "  </tbody>\n",
              "</table>\n",
              "</div>"
            ],
            "text/plain": [
              "                                              review  sentiment\n",
              "0  one review ha mention watch 1 oz episod youll ...          0\n",
              "1  wonder littl product film techniqu veri unassu...          0"
            ]
          },
          "metadata": {
            "tags": []
          },
          "execution_count": 25
        }
      ]
    },
    {
      "cell_type": "code",
      "metadata": {
        "id": "wdcc0ZuIphWY"
      },
      "source": [
        "count = CountVectorizer()"
      ],
      "execution_count": 26,
      "outputs": []
    },
    {
      "cell_type": "code",
      "metadata": {
        "id": "R7FvWv8Ep-uJ"
      },
      "source": [
        "review_count = count.fit_transform(df1.review)"
      ],
      "execution_count": 27,
      "outputs": []
    },
    {
      "cell_type": "code",
      "metadata": {
        "colab": {
          "base_uri": "https://localhost:8080/"
        },
        "id": "IbuHTcvFp-0q",
        "outputId": "d0cb9aa6-cfe1-4b81-dc18-36f68a265622"
      },
      "source": [
        "print(count.vocabulary_)\n",
        "print(review_count.toarray())"
      ],
      "execution_count": 28,
      "outputs": [
        {
          "output_type": "stream",
          "text": [
            "{'one': 119, 'review': 147, 'ha': 77, 'mention': 106, 'watch': 196, 'oz': 124, 'episod': 46, 'youll': 207, 'hook': 85, 'right': 148, 'thi': 179, 'exactli': 49, 'happen': 79, 'meth': 108, 'first': 60, 'thing': 180, 'struck': 172, 'wa': 195, 'brutal': 11, 'unflinch': 189, 'scene': 152, 'violenc': 193, 'set': 159, 'word': 201, 'go': 70, 'trust': 185, 'show': 163, 'faint': 55, 'heart': 81, 'timid': 181, 'pull': 138, 'punch': 139, 'regard': 145, 'drug': 39, 'sex': 160, 'hardcor': 80, 'classic': 19, 'use': 190, 'wordit': 202, 'call': 12, 'nicknam': 117, 'given': 68, 'oswald': 123, 'maximum': 104, 'secur': 156, 'state': 170, 'penitentari': 128, 'focus': 62, 'mainli': 99, 'emerald': 43, 'citi': 17, 'experiment': 51, 'section': 155, 'prison': 135, 'cell': 13, 'glass': 69, 'front': 64, 'face': 53, 'inward': 88, 'privaci': 136, 'high': 83, 'agenda': 2, 'em': 42, 'home': 84, 'manyaryan': 102, 'muslim': 113, 'gangsta': 65, 'latino': 94, 'christian': 16, 'italian': 90, 'irish': 89, 'moreso': 111, 'scuffl': 153, 'death': 29, 'stare': 169, 'dodgi': 35, 'deal': 28, 'shadi': 161, 'agreement': 3, 'never': 115, 'far': 57, 'awayi': 8, 'would': 204, 'say': 151, 'main': 98, 'appeal': 4, 'due': 40, 'fact': 54, 'goe': 71, 'wouldnt': 205, 'dare': 26, 'forget': 63, 'pretti': 134, 'pictur': 130, 'paint': 125, 'mainstream': 100, 'audienc': 6, 'charm': 14, 'romanceoz': 149, 'doesnt': 36, 'mess': 107, 'around': 5, 'ever': 47, 'saw': 150, 'nasti': 114, 'surreal': 174, 'couldnt': 24, 'readi': 141, 'develop': 31, 'tast': 175, 'got': 72, 'accustom': 0, 'level': 95, 'graphic': 73, 'injustic': 86, 'crook': 25, 'guard': 75, 'wholl': 198, 'sold': 166, 'nickel': 116, 'inmat': 87, 'kill': 91, 'order': 121, 'get': 66, 'away': 7, 'well': 197, 'manner': 101, 'middl': 110, 'class': 18, 'turn': 186, 'bitch': 10, 'lack': 93, 'street': 171, 'skill': 165, 'experi': 50, 'may': 105, 'becom': 9, 'comfort': 22, 'uncomfort': 188, 'viewingthat': 192, 'touch': 182, 'darker': 27, 'side': 164, 'wonder': 200, 'littl': 97, 'product': 137, 'film': 59, 'techniqu': 176, 'veri': 191, 'unassum': 187, 'oldtimebbc': 118, 'fashion': 58, 'give': 67, 'sometim': 168, 'discomfort': 34, 'sens': 158, 'realism': 142, 'entir': 44, 'piec': 131, 'actor': 1, 'extrem': 52, 'chosen': 15, 'michael': 109, 'sheen': 162, 'onli': 120, 'polari': 133, 'voic': 194, 'pat': 127, 'truli': 184, 'see': 157, 'seamless': 154, 'edit': 41, 'guid': 76, 'refer': 144, 'william': 199, 'diari': 32, 'entri': 45, 'worth': 203, 'terrificli': 178, 'written': 206, 'perform': 129, 'master': 103, 'great': 74, 'comedi': 21, 'hi': 82, 'life': 96, 'realli': 143, 'come': 20, 'fantasi': 56, 'rather': 140, 'tradit': 183, 'dream': 38, 'remain': 146, 'solid': 167, 'disappear': 33, 'play': 132, 'knowledg': 92, 'particularli': 126, 'concern': 23, 'orton': 122, 'halliwel': 78, 'flat': 61, 'mural': 112, 'decor': 30, 'everi': 48, 'surfac': 173, 'terribl': 177, 'done': 37}\n",
            "[[1 0 1 1 1 1 1 1 1 1 1 1 1 1 1 0 1 2 1 1 0 0 1 0 1 1 1 1 1 1 0 1 0 0 0 1\n",
            "  1 0 0 1 2 0 1 1 0 0 2 1 0 1 1 1 0 1 1 1 0 1 0 0 2 0 1 3 1 1 2 0 1 1 1 1\n",
            "  1 1 0 1 0 1 0 1 1 1 0 2 1 1 1 2 1 1 1 1 0 1 1 1 0 0 1 1 1 1 1 0 1 1 1 1\n",
            "  1 0 1 1 0 1 1 1 1 1 0 1 0 1 0 1 5 1 0 0 1 0 1 0 0 0 1 3 1 0 1 1 0 1 0 0\n",
            "  0 1 0 1 2 1 1 2 1 1 0 1 1 0 0 1 1 1 0 4 1 1 1 0 0 1 1 1 2 0 1 1 0 0 0 3\n",
            "  1 1 1 0 0 1 1 0 1 1 1 0 1 4 0 3 3 1 2 0 0 1 1 0 1 1 0 1]\n",
            " [0 1 0 0 0 0 0 0 0 0 0 0 0 0 0 1 0 0 0 0 1 1 1 1 0 0 0 0 0 0 1 0 1 1 1 0\n",
            "  0 1 1 0 0 1 0 0 1 1 0 0 1 0 0 0 1 0 0 0 1 0 1 1 0 1 0 0 0 0 0 1 0 0 0 0\n",
            "  1 0 1 1 1 2 2 0 0 0 1 0 1 0 0 0 0 0 0 0 1 0 0 0 1 2 0 0 0 0 0 2 0 0 0 0\n",
            "  0 1 0 0 1 0 0 0 0 0 1 1 2 0 1 0 0 0 2 1 0 1 0 2 1 1 0 0 0 2 0 0 1 0 2 1\n",
            "  1 0 1 0 0 0 0 0 1 0 1 0 0 1 2 1 0 0 1 0 0 0 0 1 1 0 0 0 0 1 0 0 2 1 1 0\n",
            "  1 0 0 1 1 0 0 1 0 0 1 2 0 0 1 0 1 3 0 1 1 0 0 1 0 0 1 0]]\n"
          ],
          "name": "stdout"
        }
      ]
    },
    {
      "cell_type": "code",
      "metadata": {
        "id": "xZ_4GTxup-8E"
      },
      "source": [
        "review_count = count.fit_transform(df.review)"
      ],
      "execution_count": 29,
      "outputs": []
    },
    {
      "cell_type": "code",
      "metadata": {
        "id": "cWScj-r0p-_4"
      },
      "source": [
        "tfidf = TfidfVectorizer(norm= False , smooth_idf= False)"
      ],
      "execution_count": 30,
      "outputs": []
    },
    {
      "cell_type": "code",
      "metadata": {
        "id": "InHLaLZ0p_GI"
      },
      "source": [
        "review_tfidf = tfidf.fit_transform((df.review))"
      ],
      "execution_count": 31,
      "outputs": []
    },
    {
      "cell_type": "markdown",
      "metadata": {
        "id": "XmOqOpXba7ZE"
      },
      "source": [
        "# Splitting the dataset"
      ]
    },
    {
      "cell_type": "code",
      "metadata": {
        "colab": {
          "base_uri": "https://localhost:8080/"
        },
        "id": "US7cvTlga93S",
        "outputId": "97a01da8-a166-4c43-fd88-53f40cd08218"
      },
      "source": [
        "train_review_count = review_count[:40000]\n",
        "train_review_tfidf = review_tfidf[:40000]\n",
        "train_sentiment = df.sentiment[:40000]\n",
        "print(train_review_count.shape)\n",
        "print(train_review_tfidf.shape)\n",
        "print(train_sentiment.shape)"
      ],
      "execution_count": 50,
      "outputs": [
        {
          "output_type": "stream",
          "text": [
            "(40000, 181713)\n",
            "(40000, 181713)\n",
            "(40000,)\n"
          ],
          "name": "stdout"
        }
      ]
    },
    {
      "cell_type": "code",
      "metadata": {
        "colab": {
          "base_uri": "https://localhost:8080/"
        },
        "id": "NYcuZPD8a9-c",
        "outputId": "e285e7e2-d1cc-4c9b-b3a8-682980aca192"
      },
      "source": [
        "test_review_count = review_count[40000:]\n",
        "test_review_tfidf = review_tfidf[40000:]\n",
        "test_sentiment = df.sentiment[40000:]\n",
        "print(test_review_count.shape)\n",
        "print(test_review_tfidf.shape)\n",
        "print(test_sentiment.shape)"
      ],
      "execution_count": 51,
      "outputs": [
        {
          "output_type": "stream",
          "text": [
            "(10000, 181713)\n",
            "(10000, 181713)\n",
            "(10000,)\n"
          ],
          "name": "stdout"
        }
      ]
    },
    {
      "cell_type": "markdown",
      "metadata": {
        "id": "Fka2hIK0cn8P"
      },
      "source": [
        "**Modelling the dataset**"
      ]
    },
    {
      "cell_type": "markdown",
      "metadata": {
        "_uuid": "d5e45fdc9d062a5b9b9dd665ffe732776e196953",
        "id": "5_rWdrB3cn8P"
      },
      "source": [
        "# Model on Count Vectorizer"
      ]
    },
    {
      "cell_type": "code",
      "metadata": {
        "colab": {
          "base_uri": "https://localhost:8080/"
        },
        "id": "L-U3npNnc2Z-",
        "outputId": "bf89a25a-8dcd-4392-cab4-cb76ebc41734"
      },
      "source": [
        "#Logistic Regression model\n",
        "model_lr = LogisticRegression()\n",
        "model_lr.fit(train_review_count , train_sentiment)"
      ],
      "execution_count": 49,
      "outputs": [
        {
          "output_type": "execute_result",
          "data": {
            "text/plain": [
              "LogisticRegression(C=1.0, class_weight=None, dual=False, fit_intercept=True,\n",
              "                   intercept_scaling=1, l1_ratio=None, max_iter=100,\n",
              "                   multi_class='auto', n_jobs=None, penalty='l2',\n",
              "                   random_state=None, solver='lbfgs', tol=0.0001, verbose=0,\n",
              "                   warm_start=False)"
            ]
          },
          "metadata": {
            "tags": []
          },
          "execution_count": 49
        }
      ]
    },
    {
      "cell_type": "code",
      "metadata": {
        "id": "Yygzu5Yoc2g2"
      },
      "source": [
        "predicted_classes_lr = model_lr.predict(test_review_count)"
      ],
      "execution_count": 36,
      "outputs": []
    },
    {
      "cell_type": "code",
      "metadata": {
        "colab": {
          "base_uri": "https://localhost:8080/",
          "height": 313
        },
        "id": "DPPAuG6Nc2k5",
        "outputId": "0df5ba08-7471-4d24-c5e9-6c2577fe204c"
      },
      "source": [
        "conf_mat_lr = confusion_matrix(test_sentiment.tolist() , predicted_classes_lr)\n",
        "print(conf_mat_lr)\n",
        "sns.heatmap(conf_mat_lr, annot = True , fmt = 'g')\n",
        "plt.xlabel(\"Predicted classes\")\n",
        "plt.ylabel(\"Actual classes\")\n",
        "plt.show()"
      ],
      "execution_count": 37,
      "outputs": [
        {
          "output_type": "stream",
          "text": [
            "[[4429  578]\n",
            " [ 576 4417]]\n"
          ],
          "name": "stdout"
        },
        {
          "output_type": "display_data",
          "data": {
            "image/png": "[encoded data removed]",
            "text/plain": [
              "<Figure size 432x288 with 2 Axes>"
            ]
          },
          "metadata": {
            "tags": [],
            "needs_background": "light"
          }
        }
      ]
    },
    {
      "cell_type": "code",
      "metadata": {
        "colab": {
          "base_uri": "https://localhost:8080/"
        },
        "id": "7c0_LmaVc23L",
        "outputId": "e792c366-aa91-48ad-c3bf-23dffdb392b1"
      },
      "source": [
        "model_lr_score = accuracy_score(test_sentiment , predicted_classes_lr )\n",
        "model_lr_score"
      ],
      "execution_count": 39,
      "outputs": [
        {
          "output_type": "execute_result",
          "data": {
            "text/plain": [
              "0.8846"
            ]
          },
          "metadata": {
            "tags": []
          },
          "execution_count": 39
        }
      ]
    },
    {
      "cell_type": "code",
      "metadata": {
        "id": "U_zXDC0siYC5"
      },
      "source": [
        "from sklearn.model_selection import GridSearchCV"
      ],
      "execution_count": 41,
      "outputs": []
    },
    {
      "cell_type": "code",
      "metadata": {
        "colab": {
          "base_uri": "https://localhost:8080/"
        },
        "id": "Zq7hmFMqhKUm",
        "outputId": "33872873-6319-4534-992f-bc0843c03300"
      },
      "source": [
        "#Logistic Regression model after doing Hyperparameter tunig\n",
        "grid_values = {'C':[0.001,.009,0.01,.09,1,5,10,25] , \"penalty\" : [\"l1\",\"l2\"]}\n",
        "grid_clf = GridSearchCV(model_lr, param_grid = grid_values,scoring = 'accuracy')\n",
        "grid_clf.fit(train_review_count , train_sentiment)\n",
        "print(\"Best parameters : %s\" % grid_clf.best_params_)"
      ],
      "execution_count": 42,
      "outputs": [
        {
          "output_type": "stream",
          "text": [
            "Best parameters : {'C': 0.09, 'penalty': 'l2'}\n"
          ],
          "name": "stdout"
        }
      ]
    },
    {
      "cell_type": "code",
      "metadata": {
        "id": "Ide5X22ohKdi"
      },
      "source": [
        "best_grid = grid_clf.best_estimator_"
      ],
      "execution_count": 43,
      "outputs": []
    },
    {
      "cell_type": "code",
      "metadata": {
        "colab": {
          "base_uri": "https://localhost:8080/"
        },
        "id": "qsFCXOqUiXeN",
        "outputId": "3bb68cbf-3bfa-45b0-8301-c77898fb32b0"
      },
      "source": [
        "predicted_classes_bestgrid = best_grid.predict(test_review_count)\n",
        "predicted_classes_bestgrid"
      ],
      "execution_count": 46,
      "outputs": [
        {
          "output_type": "execute_result",
          "data": {
            "text/plain": [
              "array([1, 1, 0, ..., 1, 0, 1])"
            ]
          },
          "metadata": {
            "tags": []
          },
          "execution_count": 46
        }
      ]
    },
    {
      "cell_type": "code",
      "metadata": {
        "colab": {
          "base_uri": "https://localhost:8080/",
          "height": 313
        },
        "id": "7AjcqAgWkMsw",
        "outputId": "3f4bebfd-2179-4287-9e44-42d423df2ef6"
      },
      "source": [
        "conf_mat_lr = confusion_matrix(test_sentiment.tolist() , predicted_classes_bestgrid)\n",
        "print(conf_mat_lr)\n",
        "sns.heatmap(conf_mat_lr, annot = True , fmt = 'g')\n",
        "plt.xlabel(\"Predicted classes\")\n",
        "plt.ylabel(\"Actual classes\")\n",
        "plt.show()"
      ],
      "execution_count": 47,
      "outputs": [
        {
          "output_type": "stream",
          "text": [
            "[[4477  530]\n",
            " [ 561 4432]]\n"
          ],
          "name": "stdout"
        },
        {
          "output_type": "display_data",
          "data": {
            "image/png": "[encoded data removed]",
            "text/plain": [
              "<Figure size 432x288 with 2 Axes>"
            ]
          },
          "metadata": {
            "tags": [],
            "needs_background": "light"
          }
        }
      ]
    },
    {
      "cell_type": "code",
      "metadata": {
        "colab": {
          "base_uri": "https://localhost:8080/"
        },
        "id": "A3MJkExTkM0w",
        "outputId": "90e03caa-2383-4108-bcd6-a358254fc29d"
      },
      "source": [
        "model_lr_bestgrid_score = accuracy_score(test_sentiment , predicted_classes_bestgrid )\n",
        "model_lr_bestgrid_score"
      ],
      "execution_count": 48,
      "outputs": [
        {
          "output_type": "execute_result",
          "data": {
            "text/plain": [
              "0.8909"
            ]
          },
          "metadata": {
            "tags": []
          },
          "execution_count": 48
        }
      ]
    },
    {
      "cell_type": "markdown",
      "metadata": {
        "id": "h4Fv1ZiClc5L"
      },
      "source": [
        "# Model on TFIDF Vectorizer"
      ]
    },
    {
      "cell_type": "code",
      "metadata": {
        "colab": {
          "base_uri": "https://localhost:8080/"
        },
        "id": "wD03oayfkM9v",
        "outputId": "fd28112d-bd5c-4cc2-ae15-e1253486028a"
      },
      "source": [
        "#Logistic Regression model\n",
        "model_lr = LogisticRegression()\n",
        "model_lr.fit(train_review_tfidf , train_sentiment)"
      ],
      "execution_count": 52,
      "outputs": [
        {
          "output_type": "execute_result",
          "data": {
            "text/plain": [
              "LogisticRegression(C=1.0, class_weight=None, dual=False, fit_intercept=True,\n",
              "                   intercept_scaling=1, l1_ratio=None, max_iter=100,\n",
              "                   multi_class='auto', n_jobs=None, penalty='l2',\n",
              "                   random_state=None, solver='lbfgs', tol=0.0001, verbose=0,\n",
              "                   warm_start=False)"
            ]
          },
          "metadata": {
            "tags": []
          },
          "execution_count": 52
        }
      ]
    },
    {
      "cell_type": "code",
      "metadata": {
        "id": "x90qfhUpkNCq"
      },
      "source": [
        "predicted_classes_lr = model_lr.predict(test_review_tfidf)"
      ],
      "execution_count": 54,
      "outputs": []
    },
    {
      "cell_type": "code",
      "metadata": {
        "colab": {
          "base_uri": "https://localhost:8080/",
          "height": 313
        },
        "id": "ov25QMSWmdTr",
        "outputId": "c0535b5a-813b-419a-cbfe-da4d3b94d382"
      },
      "source": [
        "conf_mat_lr = confusion_matrix(test_sentiment.tolist() , predicted_classes_lr)\n",
        "print(conf_mat_lr)\n",
        "sns.heatmap(conf_mat_lr, annot = True , fmt = 'g')\n",
        "plt.xlabel(\"Predicted classes\")\n",
        "plt.ylabel(\"Actual classes\")\n",
        "plt.show()"
      ],
      "execution_count": 55,
      "outputs": [
        {
          "output_type": "stream",
          "text": [
            "[[4407  600]\n",
            " [ 603 4390]]\n"
          ],
          "name": "stdout"
        },
        {
          "output_type": "display_data",
          "data": {
            "image/png": "[encoded data removed]",
            "text/plain": [
              "<Figure size 432x288 with 2 Axes>"
            ]
          },
          "metadata": {
            "tags": [],
            "needs_background": "light"
          }
        }
      ]
    },
    {
      "cell_type": "code",
      "metadata": {
        "colab": {
          "base_uri": "https://localhost:8080/"
        },
        "id": "0VhodhRDmjpV",
        "outputId": "9bf971db-e3d7-4e9a-e8df-952f2970c51d"
      },
      "source": [
        "model_lr_score = accuracy_score(test_sentiment , predicted_classes_lr )\n",
        "model_lr_score"
      ],
      "execution_count": 56,
      "outputs": [
        {
          "output_type": "execute_result",
          "data": {
            "text/plain": [
              "0.8797"
            ]
          },
          "metadata": {
            "tags": []
          },
          "execution_count": 56
        }
      ]
    },
    {
      "cell_type": "code",
      "metadata": {
        "colab": {
          "base_uri": "https://localhost:8080/"
        },
        "id": "2Nic-m1ympN2",
        "outputId": "eaffa163-4154-49c4-a77e-d2804b0923dd"
      },
      "source": [
        "#Logistic Regression model after doing Hyperparameter tunig\n",
        "grid_values = {'C':[0.001,.009,0.01,.09,1,5,10,25] , \"penalty\" : [\"l1\",\"l2\"]}\n",
        "grid_clf = GridSearchCV(model_lr, param_grid = grid_values,scoring = 'accuracy')\n",
        "grid_clf.fit(train_review_tfidf , train_sentiment)\n",
        "print(\"Best parameters : %s\" % grid_clf.best_params_)"
      ],
      "execution_count": 57,
      "outputs": [
        {
          "output_type": "stream",
          "text": [
            "Best parameters : {'C': 0.001, 'penalty': 'l2'}\n"
          ],
          "name": "stdout"
        }
      ]
    },
    {
      "cell_type": "code",
      "metadata": {
        "id": "Ocvkgpy3nPg2"
      },
      "source": [
        "best_grid = grid_clf.best_estimator_"
      ],
      "execution_count": 58,
      "outputs": []
    },
    {
      "cell_type": "code",
      "metadata": {
        "colab": {
          "base_uri": "https://localhost:8080/",
          "height": 313
        },
        "id": "DiwrqaVCnT8f",
        "outputId": "370b3bd7-8a05-4b1f-9899-69b143a66be9"
      },
      "source": [
        "conf_mat_lr = confusion_matrix(test_sentiment.tolist() , predicted_classes_bestgrid)\n",
        "print(conf_mat_lr)\n",
        "sns.heatmap(conf_mat_lr, annot = True , fmt = 'g')\n",
        "plt.xlabel(\"Predicted classes\")\n",
        "plt.ylabel(\"Actual classes\")\n",
        "plt.show()"
      ],
      "execution_count": 59,
      "outputs": [
        {
          "output_type": "stream",
          "text": [
            "[[4477  530]\n",
            " [ 561 4432]]\n"
          ],
          "name": "stdout"
        },
        {
          "output_type": "display_data",
          "data": {
            "image/png": "[encoded data removed]",
            "text/plain": [
              "<Figure size 432x288 with 2 Axes>"
            ]
          },
          "metadata": {
            "tags": [],
            "needs_background": "light"
          }
        }
      ]
    },
    {
      "cell_type": "code",
      "metadata": {
        "colab": {
          "base_uri": "https://localhost:8080/"
        },
        "id": "jzHeOWuTnaHX",
        "outputId": "9434455e-0759-461f-9d18-2961940aeaf8"
      },
      "source": [
        "model_lr_bestgrid_score = accuracy_score(test_sentiment , predicted_classes_bestgrid )\n",
        "model_lr_bestgrid_score"
      ],
      "execution_count": 60,
      "outputs": [
        {
          "output_type": "execute_result",
          "data": {
            "text/plain": [
              "0.8909"
            ]
          },
          "metadata": {
            "tags": []
          },
          "execution_count": 60
        }
      ]
    }
  ]
}